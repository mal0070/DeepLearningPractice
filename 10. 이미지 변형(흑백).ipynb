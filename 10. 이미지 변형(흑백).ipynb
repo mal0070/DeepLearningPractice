{
 "cells": [
  {
   "cell_type": "code",
   "execution_count": null,
   "id": "d1de7f59",
   "metadata": {},
   "outputs": [],
   "source": [
    "#불러온 이미지를 흑백으로 변경\n",
    "import cv2\n",
    "img = cv2.imread('img.jpg')\n",
    "\n",
    "dst = cv2.cvtColor(img, cv2.COLOR_\n",
    "\n",
    "cv2"
   ]
  }
 ],
 "metadata": {
  "kernelspec": {
   "display_name": "Python 3 (ipykernel)",
   "language": "python",
   "name": "python3"
  },
  "language_info": {
   "codemirror_mode": {
    "name": "ipython",
    "version": 3
   },
   "file_extension": ".py",
   "mimetype": "text/x-python",
   "name": "python",
   "nbconvert_exporter": "python",
   "pygments_lexer": "ipython3",
   "version": "3.10.9"
  }
 },
 "nbformat": 4,
 "nbformat_minor": 5
}
