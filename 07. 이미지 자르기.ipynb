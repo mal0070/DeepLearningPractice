{
 "cells": [
  {
   "cell_type": "markdown",
   "id": "5d23b6e0",
   "metadata": {},
   "source": [
    "# 7. 이미지 자르기"
   ]
  },
  {
   "cell_type": "markdown",
   "id": "2aebece9",
   "metadata": {},
   "source": [
    "영역을 잘라서 새로운 윈도우(창)에 표시"
   ]
  },
  {
   "cell_type": "code",
   "execution_count": null,
   "id": "cbdc2843",
   "metadata": {},
   "outputs": [],
   "source": [
    "import cv2\n",
    "img = cv2.imread('img.jpg')\n",
    "#img.shape=(360,640,3)\n",
    "\n",
    "crop = img[100:200,200:400]\n",
    "\n",
    "cv2.imshow('img',img)\n",
    "cv2.imshow('crop',crop)\n",
    "cv2.waitKey(0)"
   ]
  },
  {
   "cell_type": "markdown",
   "id": "3016c577",
   "metadata": {},
   "source": [
    "기존 윈도우에 표시"
   ]
  },
  {
   "cell_type": "code",
   "execution_count": null,
   "id": "00b31743",
   "metadata": {},
   "outputs": [],
   "source": [
    "import cv2\n",
    "img = cv2.imread('img.jpg')\n",
    "#img.shape=(360,640,3)\n",
    "\n",
    "crop = img[100:200,200:400]\n",
    "img[100:200, 400:600] = crop\n",
    "\n",
    "cv2.imshow('img',img)\n",
    "\n",
    "cv2.waitKey(0)"
   ]
  },
  {
   "cell_type": "code",
   "execution_count": null,
   "id": "9f5133c4",
   "metadata": {},
   "outputs": [],
   "source": []
  }
 ],
 "metadata": {
  "kernelspec": {
   "display_name": "Python 3 (ipykernel)",
   "language": "python",
   "name": "python3"
  },
  "language_info": {
   "codemirror_mode": {
    "name": "ipython",
    "version": 3
   },
   "file_extension": ".py",
   "mimetype": "text/x-python",
   "name": "python",
   "nbconvert_exporter": "python",
   "pygments_lexer": "ipython3",
   "version": "3.10.9"
  }
 },
 "nbformat": 4,
 "nbformat_minor": 5
}
